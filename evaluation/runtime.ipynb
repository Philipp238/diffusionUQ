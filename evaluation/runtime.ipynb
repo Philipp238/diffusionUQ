{
 "cells": [
  {
   "cell_type": "code",
   "execution_count": 93,
   "id": "b64a9bfd",
   "metadata": {},
   "outputs": [],
   "source": [
    "import os\n",
    "import glob\n",
    "import pandas as pd\n",
    "import numpy as np\n",
    "import matplotlib.pyplot as plt"
   ]
  },
  {
   "cell_type": "code",
   "execution_count": 110,
   "id": "ac44ba9d",
   "metadata": {},
   "outputs": [],
   "source": [
    "experiments = [\"Burgers\", \"KS\"]\n",
    "models = [\"deterministic\", \"normal\"]\n",
    "index = [\"RMSETest\",\"EnergyScoreTest\", \"t_training_avg\", \"distributional_method\", \"seed\"]\n",
    "metrics = [\"RMSETest\", \"EnergyScoreTest\", \"t_training_avg\"]"
   ]
  },
  {
   "cell_type": "code",
   "execution_count": 116,
   "id": "532e8641",
   "metadata": {},
   "outputs": [
    {
     "name": "stderr",
     "output_type": "stream",
     "text": [
      "/tmp/ipykernel_1424689/1576092330.py:28: FutureWarning: The behavior of DataFrame concatenation with empty or all-NA entries is deprecated. In a future version, this will no longer exclude empty or all-NA columns when determining the result dtypes. To retain the old behavior, exclude the relevant entries before the concat operation.\n",
      "  full_results = pd.concat([full_results, model_improvement], axis = 0)\n"
     ]
    }
   ],
   "source": [
    "full_results = pd.DataFrame(columns = [\"RMSETest\", \"EnergyScoreTest\", \"t_training_avg\", \"method\", \"experiment\"])\n",
    "for experiment in experiments:\n",
    "    det_path = f\"../results/{experiment}/deterministic/\"\n",
    "    file_list = ([f for f in glob.iglob(det_path + \"**\", recursive = True) if os.path.isfile(f) and f.endswith(\".csv\")])\n",
    "    results = pd.DataFrame()\n",
    "    for file in file_list:\n",
    "        if os.path.exists(file):\n",
    "            results_df = pd.read_csv(file, index_col=0)\n",
    "            results = pd.concat([results, results_df], axis = 1)\n",
    "\n",
    "    for model in models:\n",
    "        if model != \"deterministic\":\n",
    "            path = f\"../results/{experiment}/{model}/\"\n",
    "            file_list = ([f for f in glob.iglob(path + \"**\", recursive = True) if os.path.isfile(f) and f.endswith(\".csv\")])\n",
    "            for file in file_list:\n",
    "                if os.path.exists(file):\n",
    "                    results_df = pd.read_csv(file, index_col=0)\n",
    "                    results = pd.concat([results, results_df], axis = 1)\n",
    "\n",
    "    results = results.loc[index].transpose()\n",
    "    base_results = results[results[\"distributional_method\"] == \"deterministic\"][metrics].astype(\"float\")\n",
    "    for model in models:\n",
    "        if model != \"deterministic\":\n",
    "            model_results = results[results[\"distributional_method\"] == model][metrics].astype(\"float\")\n",
    "            model_improvement = (base_results-model_results)/base_results\n",
    "            model_improvement[\"method\"] = model\n",
    "            model_improvement[\"experiment\"] = experiment\n",
    "            full_results = pd.concat([full_results, model_improvement], axis = 0)\n",
    "\n",
    "full_results.rename({\"RMSETest\": \"RMSE\", \"EnergyScoreTest\": \"EnergyScore\", \"t_training_avg\":\"t\"}, axis = 1, inplace = True)\n",
    "full_results[\"t\"] = full_results[\"t\"]*(-1)"
   ]
  },
  {
   "cell_type": "markdown",
   "id": "651244ac",
   "metadata": {},
   "source": [
    "# Plot"
   ]
  },
  {
   "cell_type": "code",
   "execution_count": 118,
   "id": "fa8edccc",
   "metadata": {},
   "outputs": [
    {
     "data": {
      "image/png": "[encoded data removed]",
      "text/plain": [
       "<Figure size 1000x1000 with 1 Axes>"
      ]
     },
     "metadata": {},
     "output_type": "display_data"
    }
   ],
   "source": [
    "methods = [\"normal\"]\n",
    "metric = \"EnergyScore\"\n",
    "fig, axs = plt.subplots(1,1,figsize = (10,10))\n",
    "for method in methods:\n",
    "    subset = full_results[full_results[\"method\"] == method]\n",
    "    plt.scatter(subset[\"t\"], subset[metric])"
   ]
  }
 ],
 "metadata": {
  "kernelspec": {
   "display_name": "pfno",
   "language": "python",
   "name": "python3"
  },
  "language_info": {
   "codemirror_mode": {
    "name": "ipython",
    "version": 3
   },
   "file_extension": ".py",
   "mimetype": "text/x-python",
   "name": "python",
   "nbconvert_exporter": "python",
   "pygments_lexer": "ipython3",
   "version": "3.12.2"
  }
 },
 "nbformat": 4,
 "nbformat_minor": 5
}
