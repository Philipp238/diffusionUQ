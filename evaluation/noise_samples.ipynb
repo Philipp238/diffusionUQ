{
 "cells": [
  {
   "cell_type": "code",
   "execution_count": null,
   "id": "d86f16b7",
   "metadata": {},
   "outputs": [],
   "source": [
    "import os\n",
    "import sys\n",
    "\n",
    "sys.path.insert(0, os.path.abspath(\"..\"))\n",
    "from models import (\n",
    "    UNetDiffusion,\n",
    "    UNet_diffusion_normal,\n",
    "    UNet_diffusion_sample,\n",
    "    UNet_diffusion_mixednormal,\n",
    "    UNet_diffusion_mvnormal,\n",
    ")\n",
    "import torch\n",
    "from models import (\n",
    "    Diffusion,\n",
    "    generate_diffusion_samples_low_dimensional,\n",
    "    DistributionalDiffusion,\n",
    ")\n",
    "import matplotlib.pyplot as plt\n",
    "import numpy as np\n",
    "from data import PDE1D\n",
    "\n",
    "from cmap import Colormap\n",
    "colormap = Colormap(\"seaborn:icefire\").to_mpl()\n",
    "\n",
    "device = \"cuda\""
   ]
  },
  {
   "cell_type": "code",
   "execution_count": null,
   "id": "e0973999",
   "metadata": {},
   "outputs": [],
   "source": [
    "test_dataset = PDE1D(\n",
    "    data_dir=\"../data/\",\n",
    "    pde=\"KS\",\n",
    "    var=\"test\",\n",
    "    downscaling_factor=1,\n",
    "    normalize=True,\n",
    "    last_t_steps=2,\n",
    "    temporal_downscaling_factor=2,\n",
    "    select_timesteps=\"zero\",\n",
    ")\n",
    "\n",
    "test_loader = torch.utils.data.DataLoader(\n",
    "    test_dataset,\n",
    "    batch_size=3,\n",
    "    shuffle=True,\n",
    "    num_workers=0,\n",
    ")\n",
    "\n",
    "target_dim, input_dim = (\n",
    "    (1, *test_dataset.get_dimensions()),\n",
    "    (3, *test_dataset.get_dimensions()),\n",
    ")\n",
    "grid = test_dataset.get_coordinates()[0]"
   ]
  },
  {
   "cell_type": "code",
   "execution_count": null,
   "id": "e7407bbe",
   "metadata": {},
   "outputs": [],
   "source": [
    "cfg_scale = 0\n",
    "x_T_sampling_method = \"standard\"\n",
    "n_timesteps = 50\n",
    "n_samples = 5\n",
    "t_steps = 50"
   ]
  },
  {
   "cell_type": "code",
   "execution_count": null,
   "id": "ff28bdce",
   "metadata": {},
   "outputs": [],
   "source": [
    "def plot_predictions(input, target, pred, grid, last_t_timesteps=2):\n",
    "    fig, axs = plt.subplots(3, 3, figsize=(18, 8))\n",
    "\n",
    "    input_last_t = input[:, last_t_timesteps - 1].cpu()\n",
    "    mean_prediction = pred[:, 0].mean(axis=-1).cpu()\n",
    "    pred = pred.cpu()\n",
    "    target = target.cpu()\n",
    "    for i in range(3):\n",
    "        axs[i, 0].plot(grid, input_last_t[i].numpy())\n",
    "\n",
    "        for j in range(n_samples):\n",
    "            axs[i, 1].plot(\n",
    "                grid,\n",
    "                (pred[i, 0, :, j] + input_last_t[i]).numpy(),\n",
    "                alpha=0.2,\n",
    "                color=\"grey\",\n",
    "            )\n",
    "        axs[i, 1].plot(grid, (target[i, 0] + input_last_t[i]).numpy())\n",
    "        axs[i, 1].plot(\n",
    "            grid,\n",
    "            (mean_prediction[i] + input_last_t[i]).numpy(),\n",
    "            label=\"Mean prediction\",\n",
    "            linestyle=\"dashed\",\n",
    "        )\n",
    "        axs[i, 1].set_ylim(\n",
    "            [\n",
    "                (mean_prediction[i] + input_last_t[i]).min() - 0.2,\n",
    "                (mean_prediction[i] + input_last_t[i]).max() + 0.2,\n",
    "            ]\n",
    "        )\n",
    "\n",
    "        for j in range(n_samples):\n",
    "            axs[i, 2].plot(grid, pred[i, 0, :, j].numpy(), alpha=0.2, color=\"grey\")\n",
    "        axs[i, 2].plot(grid, target[i, 0].numpy(), label=\"Truth\")\n",
    "        axs[i, 2].plot(\n",
    "            grid,\n",
    "            mean_prediction[i].numpy(),\n",
    "            label=\"Mean prediction\",\n",
    "            linestyle=\"dashed\",\n",
    "        )\n",
    "        # axs[i,2].set_ylim([mean_prediction[i].min()-0.2, mean_prediction[i].max()+0.2])\n",
    "\n",
    "        axs[i, 2].legend()\n",
    "\n",
    "    axs[0, 2].set_title(\"Residual prediction\")\n",
    "    axs[0, 1].set_title(\"Original scale prediction\")\n",
    "    axs[0, 0].set_title(\"Input\")"
   ]
  },
  {
   "cell_type": "code",
   "execution_count": 5,
   "id": "68efa9d7",
   "metadata": {},
   "outputs": [],
   "source": [
    "# Batch to analyze\n",
    "b = 0"
   ]
  },
  {
   "cell_type": "code",
   "execution_count": null,
   "id": "a8faaab7",
   "metadata": {},
   "outputs": [],
   "source": [
    "n_test = len(test_dataset)\n",
    "indices = np.random.choice(n_test, 3, replace=False)\n",
    "indices = np.array([357, 211, 833])\n",
    "input = []\n",
    "target = []\n",
    "trajectory = []\n",
    "for idx in indices:\n",
    "    target_tensor, input_tensor = test_dataset.get_trajectory(idx, length=n_timesteps)\n",
    "    target_tensor = target_tensor.unsqueeze(0).to(device)\n",
    "    input_tensor = input_tensor.unsqueeze(0).to(device)\n",
    "    input.append(input_tensor)\n",
    "    target.append(target_tensor[:, :, 2] - input_tensor[:, -2])\n",
    "    trajectory.append(target_tensor)\n",
    "input = torch.cat(input, dim=0)\n",
    "target = torch.cat(target, dim=0)\n",
    "trajectory = torch.cat(trajectory, dim=0)"
   ]
  },
  {
   "cell_type": "code",
   "execution_count": 31,
   "id": "2a2b2d51",
   "metadata": {},
   "outputs": [],
   "source": [
    "def sample_low_dimensional(\n",
    "    diffusion,\n",
    "    distributional_method,\n",
    "    model,\n",
    "    n,\n",
    "    conditioning=None,\n",
    "    cfg_scale=3,\n",
    "    pred=None,\n",
    "    gt_images=None,\n",
    "):\n",
    "    \n",
    "    torch.manual_seed(0)\n",
    "    \n",
    "    model.eval()\n",
    "    predictions = []\n",
    "    if distributional_method == \"deterministic\":\n",
    "         with torch.no_grad():\n",
    "            # Make sure x starts on the correct device\n",
    "            x = diffusion.sample_x_T((n, *diffusion.img_size), pred, inference=True).to(device)\n",
    "\n",
    "            # Move conditioning and pred if provided\n",
    "            if conditioning is not None:\n",
    "                conditioning = conditioning.to(device)\n",
    "            if pred is not None:\n",
    "                pred = pred.to(device)\n",
    "\n",
    "            for i in reversed(range(1, diffusion.noise_steps)):\n",
    "                t = torch.full((n,), i, dtype=torch.long, device=device)\n",
    "\n",
    "                # Predict noise\n",
    "                predicted_noise = model(x, t, conditioning, pred=pred)\n",
    "                predictions.append(predicted_noise)\n",
    "\n",
    "                if cfg_scale > 0:\n",
    "                    uncond_predicted_noise = model(x, t, None, pred=pred)\n",
    "                    predicted_noise = torch.lerp(uncond_predicted_noise, predicted_noise, cfg_scale)\n",
    "\n",
    "                # Sample next step\n",
    "                x = diffusion.sample_x_t_inference_DDIM(x, t, predicted_noise, pred, i)\n",
    "    else:\n",
    "        with torch.no_grad():\n",
    "            x = diffusion.sample_x_T((n, *diffusion.img_size), pred, inference=True)\n",
    "            for i in reversed(range(1, diffusion.noise_steps)):\n",
    "                t = (torch.ones(n) * i).long().to(diffusion.device)\n",
    "                predicted_noise_distribution_params = model(\n",
    "                    x, t, conditioning, pred=pred\n",
    "                )\n",
    "                predicted_noise = diffusion.sample_noise(model, x, t, conditioning, pred)\n",
    "                predictions.append(predicted_noise_distribution_params)\n",
    "                if cfg_scale > 0:\n",
    "                    uncond_predicted_noise = diffusion.sample_noise(model, x, t, None, pred)\n",
    "                    predicted_noise = torch.lerp(\n",
    "                        uncond_predicted_noise, predicted_noise, cfg_scale\n",
    "                    )\n",
    "                x = diffusion.sample_x_t_inference_DDIM(x, t, predicted_noise, pred, i)\n",
    "    model.train()\n",
    "    return torch.stack(predictions, dim=-1)"
   ]
  },
  {
   "cell_type": "markdown",
   "id": "bb3577b2",
   "metadata": {},
   "source": [
    "# Deterministic"
   ]
  },
  {
   "cell_type": "code",
   "execution_count": 37,
   "id": "ad3322c4",
   "metadata": {},
   "outputs": [],
   "source": [
    "ckpt_path = \"../results/KS/deterministic/Datetime_20250902_080935_Loss_1D_KS_UNet_diffusion_deterministic_T50_DDIM1.pt\"\n",
    "distributional_method = \"deterministic\"\n",
    "beta_endpoints = (0.001, 0.35)"
   ]
  },
  {
   "cell_type": "code",
   "execution_count": 38,
   "id": "ca11c3a3",
   "metadata": {},
   "outputs": [
    {
     "name": "stderr",
     "output_type": "stream",
     "text": [
      "/tmp/ipykernel_664028/2769439003.py:10: FutureWarning: You are using `torch.load` with `weights_only=False` (the current default value), which uses the default pickle module implicitly. It is possible to construct malicious pickle data which will execute arbitrary code during unpickling (See https://github.com/pytorch/pytorch/blob/main/SECURITY.md#untrusted-models for more details). In a future release, the default value for `weights_only` will be flipped to `True`. This limits the functions that could be executed during unpickling. Arbitrary objects will no longer be allowed to be loaded via this mode unless they are explicitly allowlisted by the user via `torch.serialization.add_safe_globals`. We recommend you start setting `weights_only=True` for any use case where you don't have full control of the loaded file. Please open an issue on GitHub for any issues related to this experimental feature.\n",
      "  model.load_state_dict(torch.load(ckpt_path, map_location=device))\n"
     ]
    }
   ],
   "source": [
    "model = UNetDiffusion(\n",
    "    d=1,\n",
    "    conditioning_dim=3,\n",
    "    hidden_channels=64,\n",
    "    in_channels=1,\n",
    "    out_channels=1,\n",
    "    init_features=64,\n",
    "    domain_dim=target_dim,\n",
    ")\n",
    "model.load_state_dict(torch.load(ckpt_path, map_location=device))\n",
    "model = model.to(device)"
   ]
  },
  {
   "cell_type": "code",
   "execution_count": 39,
   "id": "7636b735",
   "metadata": {},
   "outputs": [],
   "source": [
    "diffusion = Diffusion(\n",
    "    noise_steps=n_timesteps,\n",
    "    img_size=target.shape[1:],\n",
    "    device=input.device,\n",
    "    x_T_sampling_method=x_T_sampling_method,\n",
    "    ddim_churn=1.0,\n",
    "    noise_schedule=\"linear\",\n",
    "    beta_endpoints=beta_endpoints,\n",
    "    tau=1,\n",
    ")"
   ]
  },
  {
   "cell_type": "code",
   "execution_count": 40,
   "id": "ac64cd99",
   "metadata": {},
   "outputs": [],
   "source": [
    "predictions_deterministic = sample_low_dimensional(\n",
    "    diffusion, distributional_method, model, input.shape[0], conditioning=input, pred=None, cfg_scale=cfg_scale\n",
    ")"
   ]
  },
  {
   "cell_type": "markdown",
   "id": "a5bc891e",
   "metadata": {},
   "source": [
    "# Normal"
   ]
  },
  {
   "cell_type": "code",
   "execution_count": 41,
   "id": "fc05626c",
   "metadata": {},
   "outputs": [],
   "source": [
    "ckpt_path = \"../results/KS/normal/Datetime_20250831_102648_Loss_1D_KS_UNet_diffusion_normal_T50_DDIM1.pt\"\n",
    "distributional_method = \"normal\"\n",
    "beta_endpoints = (0.001, 0.2)"
   ]
  },
  {
   "cell_type": "code",
   "execution_count": 42,
   "id": "054e3803",
   "metadata": {},
   "outputs": [
    {
     "name": "stderr",
     "output_type": "stream",
     "text": [
      "/tmp/ipykernel_664028/3868141958.py:16: FutureWarning: You are using `torch.load` with `weights_only=False` (the current default value), which uses the default pickle module implicitly. It is possible to construct malicious pickle data which will execute arbitrary code during unpickling (See https://github.com/pytorch/pytorch/blob/main/SECURITY.md#untrusted-models for more details). In a future release, the default value for `weights_only` will be flipped to `True`. This limits the functions that could be executed during unpickling. Arbitrary objects will no longer be allowed to be loaded via this mode unless they are explicitly allowlisted by the user via `torch.serialization.add_safe_globals`. We recommend you start setting `weights_only=True` for any use case where you don't have full control of the loaded file. Please open an issue on GitHub for any issues related to this experimental feature.\n",
      "  model.load_state_dict(torch.load(ckpt_path, map_location=device))\n"
     ]
    }
   ],
   "source": [
    "backbone = UNetDiffusion(\n",
    "    d=1,\n",
    "    conditioning_dim=3,\n",
    "    hidden_channels=64,\n",
    "    in_channels=1,\n",
    "    out_channels=1,\n",
    "    init_features=64,\n",
    "    domain_dim=target_dim,\n",
    ")\n",
    "\n",
    "model = UNet_diffusion_normal(\n",
    "    backbone=backbone,\n",
    "    d=1,\n",
    "    target_dim=1,\n",
    ")\n",
    "model.load_state_dict(torch.load(ckpt_path, map_location=device))\n",
    "model = model.to(device)\n",
    "\n",
    "\n",
    "diffusion = DistributionalDiffusion(\n",
    "    noise_steps=n_timesteps,\n",
    "    img_size=target.shape[1:],\n",
    "    device=input.device,\n",
    "    distributional_method=distributional_method,\n",
    "    closed_form=False,\n",
    "    x_T_sampling_method=x_T_sampling_method,\n",
    "    ddim_churn=1.0,\n",
    "    noise_schedule=\"linear\",\n",
    "    beta_endpoints=beta_endpoints,\n",
    "    tau = 1,\n",
    ")"
   ]
  },
  {
   "cell_type": "code",
   "execution_count": 43,
   "id": "6067fcf5",
   "metadata": {},
   "outputs": [],
   "source": [
    "predictions_normal = sample_low_dimensional(\n",
    "    diffusion, distributional_method, model, input.shape[0], conditioning=input, pred=None, cfg_scale=cfg_scale\n",
    ")"
   ]
  },
  {
   "cell_type": "markdown",
   "id": "290defe9",
   "metadata": {},
   "source": [
    "# Mixed normal"
   ]
  },
  {
   "cell_type": "code",
   "execution_count": 113,
   "id": "7da99d69",
   "metadata": {},
   "outputs": [],
   "source": [
    "ckpt_path = \"../results/KS/mixednormal/Datetime_20250831_190236_Loss_1D_KS_UNet_diffusion_mixednormal_T50_DDIM1.pt\"\n",
    "distributional_method = \"mixednormal\"\n",
    "beta_endpoints = (0.001, 0.2)"
   ]
  },
  {
   "cell_type": "code",
   "execution_count": 114,
   "id": "0e371286",
   "metadata": {},
   "outputs": [
    {
     "name": "stderr",
     "output_type": "stream",
     "text": [
      "/tmp/ipykernel_664028/514177830.py:17: FutureWarning: You are using `torch.load` with `weights_only=False` (the current default value), which uses the default pickle module implicitly. It is possible to construct malicious pickle data which will execute arbitrary code during unpickling (See https://github.com/pytorch/pytorch/blob/main/SECURITY.md#untrusted-models for more details). In a future release, the default value for `weights_only` will be flipped to `True`. This limits the functions that could be executed during unpickling. Arbitrary objects will no longer be allowed to be loaded via this mode unless they are explicitly allowlisted by the user via `torch.serialization.add_safe_globals`. We recommend you start setting `weights_only=True` for any use case where you don't have full control of the loaded file. Please open an issue on GitHub for any issues related to this experimental feature.\n",
      "  model.load_state_dict(torch.load(ckpt_path, map_location=device))\n"
     ]
    }
   ],
   "source": [
    "backbone = UNetDiffusion(\n",
    "    d=1,\n",
    "    conditioning_dim=3,\n",
    "    hidden_channels=64,\n",
    "    in_channels=1,\n",
    "    out_channels=1,\n",
    "    init_features=64,\n",
    "    domain_dim=target_dim,\n",
    ")\n",
    "\n",
    "model = UNet_diffusion_mixednormal(\n",
    "    backbone=backbone,\n",
    "    d=1,\n",
    "    target_dim=1,\n",
    "    n_components=50,\n",
    ")\n",
    "model.load_state_dict(torch.load(ckpt_path, map_location=device))\n",
    "model = model.to(device)\n",
    "\n",
    "\n",
    "diffusion = DistributionalDiffusion(\n",
    "    noise_steps=n_timesteps,\n",
    "    img_size=target.shape[1:],\n",
    "    device=input.device,\n",
    "    distributional_method=distributional_method,\n",
    "    closed_form=False,\n",
    "    x_T_sampling_method=x_T_sampling_method,\n",
    "    ddim_churn=1.0,\n",
    "    noise_schedule=\"linear\",\n",
    "    beta_endpoints=beta_endpoints,\n",
    "    tau = 1,\n",
    ")"
   ]
  },
  {
   "cell_type": "code",
   "execution_count": 115,
   "id": "894410cd",
   "metadata": {},
   "outputs": [],
   "source": [
    "predictions_mixnormal = sample_low_dimensional(\n",
    "    diffusion, distributional_method, model, input.shape[0], conditioning=input, pred=None, cfg_scale=cfg_scale\n",
    ")"
   ]
  },
  {
   "cell_type": "markdown",
   "id": "c2a5250c",
   "metadata": {},
   "source": [
    "# Multivariate normal"
   ]
  },
  {
   "cell_type": "code",
   "execution_count": 173,
   "id": "0a793e04",
   "metadata": {},
   "outputs": [],
   "source": [
    "ckpt_path = \"../results/KS/mvnormal/Datetime_20250901_062553_Loss_1D_KS_UNet_diffusion_mvnormal_T50_DDIM1.pt\"\n",
    "distributional_method = \"mvnormal\"\n",
    "beta_endpoints = (0.001, 0.35)"
   ]
  },
  {
   "cell_type": "code",
   "execution_count": 174,
   "id": "ebc5c42e",
   "metadata": {},
   "outputs": [
    {
     "name": "stderr",
     "output_type": "stream",
     "text": [
      "/tmp/ipykernel_664028/2291479010.py:22: FutureWarning: You are using `torch.load` with `weights_only=False` (the current default value), which uses the default pickle module implicitly. It is possible to construct malicious pickle data which will execute arbitrary code during unpickling (See https://github.com/pytorch/pytorch/blob/main/SECURITY.md#untrusted-models for more details). In a future release, the default value for `weights_only` will be flipped to `True`. This limits the functions that could be executed during unpickling. Arbitrary objects will no longer be allowed to be loaded via this mode unless they are explicitly allowlisted by the user via `torch.serialization.add_safe_globals`. We recommend you start setting `weights_only=True` for any use case where you don't have full control of the loaded file. Please open an issue on GitHub for any issues related to this experimental feature.\n",
      "  dict = torch.load(ckpt_path, map_location=device)\n"
     ]
    }
   ],
   "source": [
    "backbone = UNetDiffusion(\n",
    "    d=1,\n",
    "    conditioning_dim=3,\n",
    "    hidden_channels=64,\n",
    "    in_channels=1,\n",
    "    out_channels=1,\n",
    "    init_features=64,\n",
    "    domain_dim=target_dim,\n",
    ")\n",
    "\n",
    "# backbone.conditioning_projection = torch.nn.Identity()\n",
    "\n",
    "model = UNet_diffusion_mvnormal(\n",
    "    backbone=backbone,\n",
    "    d=1,\n",
    "    target_dim=1,\n",
    "    domain_dim=target_dim[1:],\n",
    "    rank=1,\n",
    "    method=\"lora\",\n",
    ")\n",
    "\n",
    "dict = torch.load(ckpt_path, map_location=device)\n",
    "model.load_state_dict(dict)\n",
    "model = model.to(device)\n",
    "\n",
    "\n",
    "diffusion = DistributionalDiffusion(\n",
    "    noise_steps=n_timesteps,\n",
    "    img_size=target.shape[1:],\n",
    "    device=input.device,\n",
    "    distributional_method=distributional_method,\n",
    "    closed_form=False,\n",
    "    x_T_sampling_method=x_T_sampling_method,\n",
    "    ddim_churn=1.0,\n",
    "    noise_schedule=\"linear\",\n",
    "    beta_endpoints=beta_endpoints,\n",
    "    tau = 1,\n",
    ")"
   ]
  },
  {
   "cell_type": "code",
   "execution_count": 175,
   "id": "90c8e651",
   "metadata": {},
   "outputs": [],
   "source": [
    "predictions_mvnormal = sample_low_dimensional(\n",
    "    diffusion, distributional_method, model, input.shape[0], conditioning=input, pred=None, cfg_scale=cfg_scale\n",
    ")"
   ]
  },
  {
   "cell_type": "markdown",
   "id": "cfe97f6b",
   "metadata": {},
   "source": [
    "# Plot"
   ]
  },
  {
   "cell_type": "code",
   "execution_count": 177,
   "id": "fb20a61c",
   "metadata": {},
   "outputs": [],
   "source": [
    "from scipy.stats import norm, multivariate_normal\n",
    "from torch.distributions.lowrank_multivariate_normal import LowRankMultivariateNormal"
   ]
  },
  {
   "cell_type": "code",
   "execution_count": 376,
   "id": "5f74c3b1",
   "metadata": {},
   "outputs": [],
   "source": [
    "# Example data (2D input grid)\n",
    "x1 = np.linspace(-1,-0.7, 5000)\n",
    "y1 = np.linspace(-0.5, -0.3, 5000)\n",
    "X1, Y1 = np.meshgrid(x1, y1)\n",
    "pos1 = np.dstack((X1, Y1))\n",
    "\n",
    "x2 = np.linspace(-2.2,0.5, 5000)\n",
    "y2 = np.linspace(-2, 0, 5000)\n",
    "X2, Y2 = np.meshgrid(x2, y2)\n",
    "pos2 = np.dstack((X2, Y2))\n",
    "\n",
    "x_grids = [128,129]\n",
    "b = 1"
   ]
  },
  {
   "cell_type": "code",
   "execution_count": 377,
   "id": "9b17676e",
   "metadata": {},
   "outputs": [],
   "source": [
    "# Mean prediction\n",
    "mean_pred = predictions_deterministic[0,0,x_grids].cpu()\n",
    "\n",
    "# Univariate normal\n",
    "mean_uni = predictions_normal[0,0,x_grids,0].cpu()\n",
    "var_uni = predictions_normal[0,0,x_grids,1].cpu()\n",
    "pdf_uni_1 = norm.pdf(X1, mean_uni[0,0], var_uni[0,0]) * norm.pdf(Y1, mean_uni[1,0], var_uni[1,0])\n",
    "pdf_uni_1 = pdf_uni_1/pdf_uni_1.max()\n",
    "pdf_uni_2 = norm.pdf(X2, mean_uni[0,-1], var_uni[0,-1]) * norm.pdf(Y2, mean_uni[1,-1], var_uni[1,-1])\n",
    "pdf_uni_2 = pdf_uni_2/pdf_uni_2.max()\n",
    "\n",
    "# Mixture\n",
    "means_mix = predictions_mixnormal[0,0,x_grids,:,0].cpu()\n",
    "std_mix = predictions_mixnormal[0,0,x_grids,:,1].cpu()\n",
    "weights_mix = predictions_mixnormal[0,0,0,:,2].cpu()\n",
    "# Mixture\n",
    "pdf_mix_1 = np.zeros_like(X1)\n",
    "covs_mix = std_mix[...,0].T**2\n",
    "mean_mix_1 = means_mix[...,0].T\n",
    "weights = weights_mix[...,0]\n",
    "for w, m, c in zip(weights, mean_mix_1, covs_mix):\n",
    "    rv = multivariate_normal(mean=m, cov=np.diag(c))\n",
    "    pdf_mix_1 += w.item() * rv.pdf(pos1)\n",
    "\n",
    "pdf_mix_1 = pdf_mix_1/pdf_mix_1.max()\n",
    "# Mixture\n",
    "pdf_mix_2 = np.zeros_like(X2)\n",
    "covs_mix = std_mix[...,-1].T**2\n",
    "mean_mix_2 = means_mix[...,-1].T\n",
    "weights = weights_mix[...,-1]\n",
    "for w, m, c in zip(weights, mean_mix_2, covs_mix):\n",
    "    rv = multivariate_normal(mean=m, cov=np.diag(c))\n",
    "    pdf_mix_2 += w.item() * rv.pdf(pos2)\n",
    "pdf_mix_2 = pdf_mix_2/pdf_mix_2.max()\n",
    "\n",
    "\n",
    "# Mvnormal\n",
    "mu = predictions_mvnormal[0,0,:,0,0].cpu()\n",
    "diag =  predictions_mvnormal[0,0,:,1,0].cpu()\n",
    "lora =  predictions_mvnormal[0,0,:,2:,0].cpu()\n",
    "mvnorm_1 = LowRankMultivariateNormal(mu, lora, diag)\n",
    "cov1 = mvnorm_1.covariance_matrix[np.ix_(x_grids,x_grids)]\n",
    "mu1 = mu[x_grids]\n",
    "rv = multivariate_normal(mean=mu1, cov=cov1)\n",
    "pdf_mvnorm_1 = rv.pdf(pos1)\n",
    "pdf_mvnorm_1= pdf_mvnorm_1/pdf_mvnorm_1.max()\n",
    "\n",
    "mu = predictions_mvnormal[0,0,:,0,-1].cpu()\n",
    "diag =  predictions_mvnormal[0,0,:,1,-1].cpu()\n",
    "lora =  predictions_mvnormal[0,0,:,2:,-1].cpu()\n",
    "mvnorm_2 = LowRankMultivariateNormal(mu, lora, diag)\n",
    "cov2 = mvnorm_2.covariance_matrix[np.ix_(x_grids,x_grids)]\n",
    "mu2 = mu[x_grids]\n",
    "rv = multivariate_normal(mean=mu2, cov=cov2)\n",
    "pdf_mvnorm_2 = rv.pdf(pos2)\n",
    "pdf_mvnorm_2= pdf_mvnorm_2/pdf_mvnorm_2.max()"
   ]
  },
  {
   "cell_type": "code",
   "execution_count": 378,
   "id": "80a7163f",
   "metadata": {},
   "outputs": [
    {
     "data": {
      "text/plain": [
       "(tensor([ 0.3256, -0.4550]),\n",
       " tensor([ 0.3512, -1.8573]),\n",
       " tensor([-1.8850, -0.3100]),\n",
       " tensor([-1.8243, -0.2761]))"
      ]
     },
     "execution_count": 378,
     "metadata": {},
     "output_type": "execute_result"
    }
   ],
   "source": [
    "mean_pred[...,-1], mean_uni[...,-1], mu2, (means_mix[...,-1]*weights_mix[...,-1].unsqueeze(0)).sum(dim = 1)"
   ]
  },
  {
   "cell_type": "code",
   "execution_count": 379,
   "id": "f0a1ec2c",
   "metadata": {},
   "outputs": [],
   "source": [
    "plt.style.use([\"science\",\"grid\"])"
   ]
  },
  {
   "cell_type": "code",
   "execution_count": 381,
   "id": "e56ff805",
   "metadata": {},
   "outputs": [
    {
     "data": {
      "text/plain": [
       "(-2.0, 0.0)"
      ]
     },
     "execution_count": 381,
     "metadata": {},
     "output_type": "execute_result"
    },
    {
     "data": {
      "image/png": "[encoded data removed]",
      "text/plain": [
       "<Figure size 1800x400 with 2 Axes>"
      ]
     },
     "metadata": {},
     "output_type": "display_data"
    }
   ],
   "source": [
    "fig, axs = plt.subplots(1,2, figsize = (18,4))\n",
    "\n",
    "levels1 = [0.1,0.25,0.5,0.75,1]\n",
    "levels2 = [0.0001,0.001,0.01,0.1,0.75,1]\n",
    "\n",
    "# Gaussian\n",
    "axs[0].contour(X1, Y1, pdf_uni_1, levels=levels1, colors = \"blue\")\n",
    "#Mixture\n",
    "axs[0].contour(X1, Y1, pdf_mix_1, levels=levels1, colors = \"red\")\n",
    "#Mvnormal\n",
    "axs[0].contour(X1, Y1, pdf_mvnorm_1, levels=levels1, colors = \"green\")\n",
    "#Det\n",
    "axs[0].scatter(*mean_pred[:,0])\n",
    "\n",
    "\n",
    "# Gaussian\n",
    "axs[1].contour(X2, Y2, pdf_uni_2, levels=levels2, colors = \"blue\")\n",
    "# Mixture\n",
    "axs[1].contour(X2, Y2, pdf_mix_2, levels=levels2, colors = \"red\")\n",
    "#Mvnormal\n",
    "axs[1].contour(X2, Y2, pdf_mvnorm_2, levels=levels2, colors = \"green\")\n",
    "# Det\n",
    "axs[1].scatter(*mean_pred[:,-1])\n",
    "\n",
    "\n",
    "axs[0].set_xlim([-0.92,-0.88])\n",
    "axs[0].set_ylim([-0.45,-0.41])\n",
    "\n",
    "axs[1].set_xlim([-2.2,0.5])\n",
    "axs[1].set_ylim([-2,0])"
   ]
  }
 ],
 "metadata": {
  "kernelspec": {
   "display_name": "pfno",
   "language": "python",
   "name": "python3"
  },
  "language_info": {
   "codemirror_mode": {
    "name": "ipython",
    "version": 3
   },
   "file_extension": ".py",
   "mimetype": "text/x-python",
   "name": "python",
   "nbconvert_exporter": "python",
   "pygments_lexer": "ipython3",
   "version": "3.12.2"
  }
 },
 "nbformat": 4,
 "nbformat_minor": 5
}
