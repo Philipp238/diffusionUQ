{
 "cells": [
  {
   "cell_type": "code",
   "execution_count": 1,
   "id": "91be87a8",
   "metadata": {},
   "outputs": [
    {
     "name": "stdout",
     "output_type": "stream",
     "text": [
      "Using cuda\n"
     ]
    }
   ],
   "source": [
    "import os\n",
    "os.environ['CUDA_LAUNCH_BLOCKING'] = \"1\"\n",
    "\n",
    "import torch\n",
    "import numpy as np\n",
    "\n",
    "if torch.cuda.is_available():\n",
    "    print('Using cuda')\n",
    "    device = 'cuda'\n",
    "else:\n",
    "    print('Using cpu')\n",
    "    device = 'cpu'"
   ]
  },
  {
   "cell_type": "markdown",
   "id": "5f9199b7",
   "metadata": {},
   "source": [
    "## Data"
   ]
  },
  {
   "cell_type": "code",
   "execution_count": 2,
   "id": "b0138e83",
   "metadata": {},
   "outputs": [],
   "source": [
    "from data import data_utils"
   ]
  },
  {
   "cell_type": "code",
   "execution_count": 3,
   "id": "8226ec34",
   "metadata": {},
   "outputs": [],
   "source": [
    "dataset_name = \"yacht\"\n",
    "split=0\n",
    "standardize = True\n",
    "validation_ratio = 0.0"
   ]
  },
  {
   "cell_type": "code",
   "execution_count": 4,
   "id": "472f06d0",
   "metadata": {},
   "outputs": [],
   "source": [
    "uci_data = data_utils.get_uci_data(\n",
    "    dataset_name,\n",
    "    splits=split,\n",
    "    standardize=standardize,\n",
    "    validation_ratio=validation_ratio,\n",
    ")\n",
    "dataset, image_dim, label_dim = uci_data\n",
    "training_dataset, test_dataset = dataset"
   ]
  },
  {
   "cell_type": "code",
   "execution_count": 5,
   "id": "d2086e81",
   "metadata": {},
   "outputs": [],
   "source": [
    "test_loader = torch.utils.data.DataLoader(\n",
    "    test_dataset, batch_size=16384, shuffle=True\n",
    ")"
   ]
  },
  {
   "cell_type": "markdown",
   "id": "cee5cfbb",
   "metadata": {},
   "source": [
    "## Model"
   ]
  },
  {
   "cell_type": "code",
   "execution_count": 6,
   "id": "a35aea2d",
   "metadata": {},
   "outputs": [],
   "source": [
    "from utils import train_utils\n",
    "import yaml"
   ]
  },
  {
   "cell_type": "markdown",
   "id": "1c61f56a",
   "metadata": {},
   "source": [
    "### Load pretrained CARD model"
   ]
  },
  {
   "cell_type": "code",
   "execution_count": 7,
   "id": "5232498d",
   "metadata": {},
   "outputs": [
    {
     "data": {
      "text/plain": [
       "MLP_CARD(\n",
       "  (network): Sequential(\n",
       "    (0): Linear(in_features=6, out_features=100, bias=True)\n",
       "    (1): LeakyReLU(negative_slope=0.01)\n",
       "    (2): Dropout(p=0.2, inplace=False)\n",
       "    (3): Linear(in_features=100, out_features=50, bias=True)\n",
       "    (4): LeakyReLU(negative_slope=0.01)\n",
       "    (5): Dropout(p=0.2, inplace=False)\n",
       "    (6): Linear(in_features=50, out_features=1, bias=True)\n",
       "  )\n",
       ")"
      ]
     },
     "execution_count": 7,
     "metadata": {},
     "output_type": "execute_result"
    }
   ],
   "source": [
    "model_path = os.path.join(\n",
    "    \"models\",\n",
    "    \"orig_CARD_pretrain\",\n",
    "    dataset_name,\n",
    "    f\"split_{split}\",\n",
    "    \"aux_ckpt.pth\",\n",
    ")\n",
    "aux_states = torch.load(model_path)\n",
    "\n",
    "config_path = os.path.join(\n",
    "    \"models\",\n",
    "    \"orig_CARD_pretrain\",\n",
    "    dataset_name,\n",
    "    f\"split_{split}\",\n",
    "    \"config.yml\",\n",
    ")\n",
    "with open(os.path.join(config_path), \"r\") as f:\n",
    "    card_config = yaml.unsafe_load(f)\n",
    "\n",
    "regressor = train_utils.setup_CARD_model(\n",
    "    image_dim=image_dim,\n",
    "    label_dim=label_dim,\n",
    "    hidden_layers=card_config.diffusion.nonlinear_guidance.hid_layers,\n",
    "    use_batchnorm=card_config.diffusion.nonlinear_guidance.use_batchnorm,\n",
    "    negative_slope=card_config.diffusion.nonlinear_guidance.negative_slope,\n",
    "    dropout_rate=card_config.diffusion.nonlinear_guidance.dropout_rate,\n",
    ").to(device)\n",
    "\n",
    "regressor.load_state_dict(aux_states[0])\n",
    "regressor.eval()"
   ]
  },
  {
   "cell_type": "code",
   "execution_count": 8,
   "id": "1f675151",
   "metadata": {},
   "outputs": [
    {
     "name": "stdout",
     "output_type": "stream",
     "text": [
      "Performance of pre-trained regressor on test set: RMSE=2.3\n"
     ]
    }
   ],
   "source": [
    "test_performance = train_utils.evaluate_CARD_model(\n",
    "    model=regressor,\n",
    "    loader=test_loader,\n",
    "    device=device,\n",
    "    standardized=standardize,\n",
    ")\n",
    "rmse = np.sqrt(test_performance)\n",
    "print(\n",
    "    f\"Performance of pre-trained regressor on test set: RMSE={round(rmse, 2)}\"\n",
    ")"
   ]
  },
  {
   "cell_type": "markdown",
   "id": "ddc63e3c",
   "metadata": {},
   "source": [
    "### Load diffusion model"
   ]
  },
  {
   "cell_type": "code",
   "execution_count": 9,
   "id": "618c8029",
   "metadata": {},
   "outputs": [],
   "source": [
    "# Mixed normal\n",
    "weights_directory = \"results/results_yacht_CARD_pretrain_CARD_backbone/20250708_180112_yacht\"\n",
    "weights_filename = \"Datetime_20250708_191945_Loss_yacht_MLP_diffusion_\"\n",
    "deterministic = False\n",
    "\n",
    "# Deterministic\n",
    "# weights_directory = \"results/results_yacht_CARD_pretrain_CARD_backbone/20250708_180112_yacht\"\n",
    "# weights_filename = \"Datetime_20250708_182349_Loss_yacht_MLP_diffusion_\"\n",
    "# deterministic = True\n",
    "\n",
    "filename_to_validate = f'{weights_directory}/{weights_filename}.pt'"
   ]
  },
  {
   "cell_type": "code",
   "execution_count": 10,
   "id": "94ac93c4",
   "metadata": {},
   "outputs": [],
   "source": [
    "training_parameters = {\n",
    "    'report_every': 50, \n",
    "    'seed': 1234, \n",
    "    'model': 'MLP', \n",
    "    'uncertainty_quantification': 'diffusion', \n",
    "    'backbone': 'CARD', \n",
    "    'batch_size': 64, \n",
    "    'eval_batch_size': 16384, \n",
    "    'n_epochs': 5000, \n",
    "    'early_stopping': 1000, \n",
    "    'init': 'default', \n",
    "    'learning_rate': 0.001, \n",
    "    'lr_schedule': 'no', \n",
    "    'optimizer': 'adam', \n",
    "    'gradient_clipping': 1, \n",
    "    'data_loader_pin_memory': False, \n",
    "    'data_loader_num_workers': 0, \n",
    "    'distributed_training': False, \n",
    "    'alpha': 0.05, \n",
    "    'n_samples_uq': 100, \n",
    "    'weight_decay': 0.0, \n",
    "    'dropout': 0.1, \n",
    "    'hidden_dim': 64, \n",
    "    'n_layers': 2, \n",
    "    'n_timesteps': 50, \n",
    "    'distributional_method': 'closed_form_mixednormal', #'deterministic', 'mixednormal', #closed_form_mixednormal', \n",
    "    'concat_condition_diffusion': True, \n",
    "    'evaluate': True, \n",
    "    'x_T_sampling_method': 'CARD', \n",
    "    'conditional_free_guidance_training': False, \n",
    "    'use_yarin_gal_loss': False, \n",
    "    'ddim_sigma': 0.0, \n",
    "    'noise_schedule': 'linear', \n",
    "    'regressor': 'orig_CARD_pretrain', \n",
    "    'metrics_plots': True, \n",
    "    'filename_to_validate': filename_to_validate\n",
    "}"
   ]
  },
  {
   "cell_type": "code",
   "execution_count": 11,
   "id": "84238886",
   "metadata": {},
   "outputs": [
    {
     "data": {
      "text/plain": [
       "<torch._C.Generator at 0x7fbb18b287f0>"
      ]
     },
     "execution_count": 11,
     "metadata": {},
     "output_type": "execute_result"
    }
   ],
   "source": [
    "seed = training_parameters[\"seed\"]\n",
    "np.random.seed(seed)\n",
    "torch.manual_seed(seed)"
   ]
  },
  {
   "cell_type": "code",
   "execution_count": 12,
   "id": "d0ee9b6a",
   "metadata": {},
   "outputs": [],
   "source": [
    "model = train_utils.setup_model(\n",
    "    training_parameters, device, image_dim, label_dim\n",
    ")\n",
    "train_utils.resume(model, filename_to_validate)"
   ]
  },
  {
   "cell_type": "code",
   "execution_count": 13,
   "id": "b0375a00",
   "metadata": {},
   "outputs": [
    {
     "data": {
      "text/plain": [
       "MLP_diffusion_mixednormal(\n",
       "  (input_projection): Linear(in_features=1, out_features=128, bias=True)\n",
       "  (time_projection): Linear(in_features=128, out_features=128, bias=True)\n",
       "  (act): ReLU()\n",
       "  (blocks): Sequential2Inputs(\n",
       "    (0): MLPBlock(\n",
       "      (ff): Linear(in_features=128, out_features=128, bias=True)\n",
       "      (act): ReLU()\n",
       "      (dropout): Dropout(p=0.1, inplace=False)\n",
       "    )\n",
       "    (1): MLPBlock(\n",
       "      (ff): Linear(in_features=128, out_features=128, bias=True)\n",
       "      (act): ReLU()\n",
       "      (dropout): Dropout(p=0.1, inplace=False)\n",
       "    )\n",
       "    (2): MLPBlock(\n",
       "      (ff): Linear(in_features=128, out_features=128, bias=True)\n",
       "      (act): ReLU()\n",
       "      (dropout): Dropout(p=0.1, inplace=False)\n",
       "    )\n",
       "    (3): MLPBlock(\n",
       "      (ff): Linear(in_features=128, out_features=128, bias=True)\n",
       "      (act): ReLU()\n",
       "      (dropout): Dropout(p=0.1, inplace=False)\n",
       "    )\n",
       "    (4): MLPBlock(\n",
       "      (ff): Linear(in_features=128, out_features=128, bias=True)\n",
       "      (act): ReLU()\n",
       "      (dropout): Dropout(p=0.1, inplace=False)\n",
       "    )\n",
       "  )\n",
       "  (output_projection): Linear(in_features=128, out_features=1, bias=True)\n",
       "  (backbone): MLP_diffusion_CARD(\n",
       "    (input_projection): ConditionalLinear(\n",
       "      (lin): Linear(in_features=8, out_features=128, bias=True)\n",
       "      (embed): Embedding(1001, 128)\n",
       "    )\n",
       "    (hidden_layers): ModuleList(\n",
       "      (0-1): 2 x ConditionalLinear(\n",
       "        (lin): Linear(in_features=128, out_features=128, bias=True)\n",
       "        (embed): Embedding(1001, 128)\n",
       "      )\n",
       "    )\n",
       "    (output_projection): Linear(in_features=128, out_features=1, bias=True)\n",
       "  )\n",
       "  (mu_projection): Linear(in_features=128, out_features=2, bias=True)\n",
       "  (sigma_projection): Linear(in_features=128, out_features=2, bias=True)\n",
       "  (weights_projection): Linear(in_features=128, out_features=2, bias=True)\n",
       "  (sofplus): Softplus(beta=1.0, threshold=20.0)\n",
       ")"
      ]
     },
     "execution_count": 13,
     "metadata": {},
     "output_type": "execute_result"
    }
   ],
   "source": [
    "model"
   ]
  },
  {
   "cell_type": "markdown",
   "id": "a0dc6a92",
   "metadata": {},
   "source": [
    "## Apply model on test set"
   ]
  },
  {
   "cell_type": "code",
   "execution_count": 14,
   "id": "d744bc3d",
   "metadata": {},
   "outputs": [],
   "source": [
    "import evaluate\n",
    "from utils import losses"
   ]
  },
  {
   "cell_type": "code",
   "execution_count": 15,
   "id": "7cefd580",
   "metadata": {},
   "outputs": [],
   "source": [
    "alpha = 0.05"
   ]
  },
  {
   "cell_type": "code",
   "execution_count": 16,
   "id": "d944f17d",
   "metadata": {},
   "outputs": [],
   "source": [
    "with torch.no_grad():\n",
    "    for target, input in test_loader:\n",
    "        input = input.to(device)\n",
    "        target = target.to(device)\n",
    "        batch_size = input.shape[0]\n",
    "        # predicted_images.shape = (batch_size, n_samples, n_variables)\n",
    "        res = evaluate.generate_samples(\n",
    "            \"diffusion\",\n",
    "            model,\n",
    "            training_parameters[\"n_timesteps\"],\n",
    "            input,\n",
    "            target,\n",
    "            training_parameters[\"n_samples_uq\"],\n",
    "            training_parameters[\"x_T_sampling_method\"],\n",
    "            training_parameters[\"distributional_method\"],\n",
    "            regressor,\n",
    "            cfg_scale=0,\n",
    "            ddim_sigma=training_parameters[\"ddim_sigma\"],\n",
    "            noise_schedule=training_parameters[\"noise_schedule\"],\n",
    "            metrics_plots = training_parameters[\"metrics_plots\"],\n",
    "            #final_timestep_variance_scaling=2.0,\n",
    "            )\n",
    "\n",
    "if not training_parameters[\"distributional_method\"] == \"deterministic\":\n",
    "    predicted_images = res[0]\n",
    "else:\n",
    "    predicted_images = res"
   ]
  },
  {
   "cell_type": "code",
   "execution_count": 17,
   "id": "db47b356",
   "metadata": {},
   "outputs": [
    {
     "data": {
      "text/plain": [
       "torch.Size([31, 1, 1, 100])"
      ]
     },
     "execution_count": 17,
     "metadata": {},
     "output_type": "execute_result"
    }
   ],
   "source": [
    "predicted_images.shape"
   ]
  },
  {
   "cell_type": "code",
   "execution_count": 18,
   "id": "1fc40b22",
   "metadata": {},
   "outputs": [
    {
     "data": {
      "text/plain": [
       "torch.Size([31, 1, 1, 100])"
      ]
     },
     "execution_count": 18,
     "metadata": {},
     "output_type": "execute_result"
    }
   ],
   "source": [
    "predicted_images = predicted_images.cpu() # out.squeeze().cpu()\n",
    "predicted_images.shape"
   ]
  },
  {
   "cell_type": "code",
   "execution_count": 19,
   "id": "e5c97c2c",
   "metadata": {},
   "outputs": [
    {
     "data": {
      "text/plain": [
       "tensor([[[[ 2.1552,  2.1564,  2.1610,  ...,  2.1540,  2.1527,  2.1568]]],\n",
       "\n",
       "\n",
       "        [[[-0.6563, -0.6566, -0.6563,  ..., -0.6565, -0.6563, -0.6567]]],\n",
       "\n",
       "\n",
       "        [[[ 0.1580,  0.1549,  0.1562,  ...,  0.1548,  0.1556,  0.1509]]],\n",
       "\n",
       "\n",
       "        ...,\n",
       "\n",
       "\n",
       "        [[[-0.4584, -0.4591, -0.4587,  ..., -0.4587, -0.4592, -0.4586]]],\n",
       "\n",
       "\n",
       "        [[[-0.6621, -0.6622, -0.6623,  ..., -0.6620, -0.6622, -0.6622]]],\n",
       "\n",
       "\n",
       "        [[[-0.3924, -0.3922, -0.3790,  ..., -0.3941, -0.3924, -0.3923]]]])"
      ]
     },
     "execution_count": 19,
     "metadata": {},
     "output_type": "execute_result"
    }
   ],
   "source": [
    "predicted_images"
   ]
  },
  {
   "cell_type": "code",
   "execution_count": 20,
   "id": "b81f5d2d",
   "metadata": {},
   "outputs": [
    {
     "data": {
      "text/plain": [
       "tensor([[[ 2.0561]],\n",
       "\n",
       "        [[-0.6511]],\n",
       "\n",
       "        [[ 0.1158]],\n",
       "\n",
       "        [[-0.6914]],\n",
       "\n",
       "        [[ 0.2037]],\n",
       "\n",
       "        [[-0.6928]],\n",
       "\n",
       "        [[-0.6644]],\n",
       "\n",
       "        [[ 2.6989]],\n",
       "\n",
       "        [[-0.6617]],\n",
       "\n",
       "        [[-0.4298]],\n",
       "\n",
       "        [[-0.6571]],\n",
       "\n",
       "        [[-0.4992]],\n",
       "\n",
       "        [[-0.6465]],\n",
       "\n",
       "        [[-0.6749]],\n",
       "\n",
       "        [[-0.2165]],\n",
       "\n",
       "        [[-0.5679]],\n",
       "\n",
       "        [[-0.6862]],\n",
       "\n",
       "        [[ 3.0265]],\n",
       "\n",
       "        [[-0.6089]],\n",
       "\n",
       "        [[-0.3605]],\n",
       "\n",
       "        [[-0.6703]],\n",
       "\n",
       "        [[-0.6928]],\n",
       "\n",
       "        [[-0.6855]],\n",
       "\n",
       "        [[-0.1583]],\n",
       "\n",
       "        [[ 0.8260]],\n",
       "\n",
       "        [[ 1.5408]],\n",
       "\n",
       "        [[-0.5025]],\n",
       "\n",
       "        [[-0.6280]],\n",
       "\n",
       "        [[-0.4549]],\n",
       "\n",
       "        [[-0.6426]],\n",
       "\n",
       "        [[-0.3988]]], device='cuda:0')"
      ]
     },
     "execution_count": 20,
     "metadata": {},
     "output_type": "execute_result"
    }
   ],
   "source": [
    "target"
   ]
  },
  {
   "cell_type": "code",
   "execution_count": 21,
   "id": "40d7a177",
   "metadata": {},
   "outputs": [],
   "source": [
    "if standardize:\n",
    "    target = test_loader.dataset.destandardize_image(target)\n",
    "    predicted_images = test_loader.dataset.destandardize_image(predicted_images)"
   ]
  },
  {
   "cell_type": "code",
   "execution_count": 22,
   "id": "725661bd",
   "metadata": {},
   "outputs": [
    {
     "data": {
      "text/plain": [
       "tensor([[[41.7700]],\n",
       "\n",
       "        [[ 0.7900]],\n",
       "\n",
       "        [[12.4000]],\n",
       "\n",
       "        [[ 0.1800]],\n",
       "\n",
       "        [[13.7300]]], device='cuda:0')"
      ]
     },
     "execution_count": 22,
     "metadata": {},
     "output_type": "execute_result"
    }
   ],
   "source": [
    "target[:5]"
   ]
  },
  {
   "cell_type": "code",
   "execution_count": 23,
   "id": "0abfb48b",
   "metadata": {},
   "outputs": [],
   "source": [
    "coverage_loss = losses.Coverage(alpha)"
   ]
  },
  {
   "cell_type": "code",
   "execution_count": 24,
   "id": "c86c8d35",
   "metadata": {},
   "outputs": [
    {
     "data": {
      "text/plain": [
       "torch.Size([31, 1, 1])"
      ]
     },
     "execution_count": 24,
     "metadata": {},
     "output_type": "execute_result"
    }
   ],
   "source": [
    "target.shape"
   ]
  },
  {
   "cell_type": "code",
   "execution_count": 25,
   "id": "f2731cf7",
   "metadata": {},
   "outputs": [
    {
     "name": "stdout",
     "output_type": "stream",
     "text": [
      "Coverage 0.0\n"
     ]
    }
   ],
   "source": [
    "coverage = coverage_loss(predicted_images, target.cpu(), ensemble_dim=-1).item()\n",
    "print(f\"Coverage {coverage}\")"
   ]
  },
  {
   "cell_type": "code",
   "execution_count": 26,
   "id": "b27c2247",
   "metadata": {},
   "outputs": [
    {
     "name": "stdout",
     "output_type": "stream",
     "text": [
      "RMSE 1.012958288192749\n"
     ]
    }
   ],
   "source": [
    "mse = ((predicted_images.squeeze().mean(dim=-1) - target.squeeze().cpu())**2).mean()\n",
    "print(f\"RMSE {np.sqrt(mse)}\")"
   ]
  },
  {
   "cell_type": "markdown",
   "id": "6b79b33a",
   "metadata": {},
   "source": [
    "### Plot"
   ]
  },
  {
   "cell_type": "code",
   "execution_count": 27,
   "id": "eaa3f498",
   "metadata": {},
   "outputs": [],
   "source": [
    "import matplotlib.pyplot as plt"
   ]
  },
  {
   "cell_type": "code",
   "execution_count": 28,
   "id": "2d1f3e47",
   "metadata": {},
   "outputs": [
    {
     "data": {
      "image/png": "[encoded data removed]",
      "text/plain": [
       "<Figure size 640x480 with 1 Axes>"
      ]
     },
     "metadata": {},
     "output_type": "display_data"
    }
   ],
   "source": [
    "plt.hist(predicted_images.squeeze()[0], bins=10, edgecolor='black')\n",
    "# Add labels and title\n",
    "plt.xlabel('Value')\n",
    "plt.ylabel('Frequency')\n",
    "plt.title('Histogram of 100 Random Data Points')\n",
    "\n",
    "# Show the plot\n",
    "plt.show()"
   ]
  },
  {
   "cell_type": "markdown",
   "id": "2cd32d14",
   "metadata": {},
   "source": [
    "## Inspect model on test data"
   ]
  },
  {
   "cell_type": "code",
   "execution_count": 29,
   "id": "f6740c2b",
   "metadata": {},
   "outputs": [
    {
     "data": {
      "text/plain": [
       "MLP_diffusion_mixednormal(\n",
       "  (input_projection): Linear(in_features=1, out_features=128, bias=True)\n",
       "  (time_projection): Linear(in_features=128, out_features=128, bias=True)\n",
       "  (act): ReLU()\n",
       "  (blocks): Sequential2Inputs(\n",
       "    (0): MLPBlock(\n",
       "      (ff): Linear(in_features=128, out_features=128, bias=True)\n",
       "      (act): ReLU()\n",
       "      (dropout): Dropout(p=0.1, inplace=False)\n",
       "    )\n",
       "    (1): MLPBlock(\n",
       "      (ff): Linear(in_features=128, out_features=128, bias=True)\n",
       "      (act): ReLU()\n",
       "      (dropout): Dropout(p=0.1, inplace=False)\n",
       "    )\n",
       "    (2): MLPBlock(\n",
       "      (ff): Linear(in_features=128, out_features=128, bias=True)\n",
       "      (act): ReLU()\n",
       "      (dropout): Dropout(p=0.1, inplace=False)\n",
       "    )\n",
       "    (3): MLPBlock(\n",
       "      (ff): Linear(in_features=128, out_features=128, bias=True)\n",
       "      (act): ReLU()\n",
       "      (dropout): Dropout(p=0.1, inplace=False)\n",
       "    )\n",
       "    (4): MLPBlock(\n",
       "      (ff): Linear(in_features=128, out_features=128, bias=True)\n",
       "      (act): ReLU()\n",
       "      (dropout): Dropout(p=0.1, inplace=False)\n",
       "    )\n",
       "  )\n",
       "  (output_projection): Linear(in_features=128, out_features=1, bias=True)\n",
       "  (backbone): MLP_diffusion_CARD(\n",
       "    (input_projection): ConditionalLinear(\n",
       "      (lin): Linear(in_features=8, out_features=128, bias=True)\n",
       "      (embed): Embedding(1001, 128)\n",
       "    )\n",
       "    (hidden_layers): ModuleList(\n",
       "      (0-1): 2 x ConditionalLinear(\n",
       "        (lin): Linear(in_features=128, out_features=128, bias=True)\n",
       "        (embed): Embedding(1001, 128)\n",
       "      )\n",
       "    )\n",
       "    (output_projection): Linear(in_features=128, out_features=1, bias=True)\n",
       "  )\n",
       "  (mu_projection): Linear(in_features=128, out_features=2, bias=True)\n",
       "  (sigma_projection): Linear(in_features=128, out_features=2, bias=True)\n",
       "  (weights_projection): Linear(in_features=128, out_features=2, bias=True)\n",
       "  (sofplus): Softplus(beta=1.0, threshold=20.0)\n",
       ")"
      ]
     },
     "execution_count": 29,
     "metadata": {},
     "output_type": "execute_result"
    }
   ],
   "source": [
    "model.eval()"
   ]
  },
  {
   "cell_type": "code",
   "execution_count": 30,
   "id": "0e3d7068",
   "metadata": {},
   "outputs": [],
   "source": [
    "TEST_SAMPLE_IDX = 20\n",
    "\n",
    "target, conditioning = test_dataset[TEST_SAMPLE_IDX]\n",
    "target, conditioning = target.to(device), conditioning.to(device) \n",
    "pred = regressor(conditioning).detach()"
   ]
  },
  {
   "cell_type": "code",
   "execution_count": 31,
   "id": "b0543d28",
   "metadata": {},
   "outputs": [],
   "source": [
    "# x = torch.randn((1,1,1)).to(device)\n",
    "# print(f\"x = {x}; pred = {pred}\")\n",
    "# x += pred\n",
    "\n",
    "N_SAMPLES = 100\n",
    "TIMESTEPS = 50\n",
    "\n",
    "i = 49\n",
    "t = torch.tensor([i]).long().to(device)\n",
    "\n",
    "ddim_sigma = 0.0"
   ]
  },
  {
   "cell_type": "code",
   "execution_count": 32,
   "id": "ffafa24a",
   "metadata": {},
   "outputs": [
    {
     "name": "stdout",
     "output_type": "stream",
     "text": [
      "x[0]=0.849, pred=-0.706, target=-0.693\n",
      "mean(x)=-0.6332890391349792, std(x)=1.024904489517212\n"
     ]
    }
   ],
   "source": [
    "x_repeated = torch.randn((N_SAMPLES,1,1)).to(device) # x.repeat_interleave(N_SAMPLES, dim=0)\n",
    "t_repeated = t.repeat_interleave(N_SAMPLES, dim=0)\n",
    "cond_repeated = conditioning.unsqueeze(1).repeat_interleave(N_SAMPLES, dim=0)\n",
    "pred_repeated = pred.unsqueeze(1).repeat_interleave(N_SAMPLES, dim=0)\n",
    "\n",
    "x_repeated += pred_repeated\n",
    "\n",
    "print(f\"x[0]={round(x_repeated.squeeze()[0].item(), 3)}, pred={round(pred_repeated.squeeze()[0].item(), 3)}, target={round(target.item(), 3)}\")\n",
    "print(f\"mean(x)={x_repeated.mean().item()}, std(x)={x_repeated.std().item()}\")"
   ]
  },
  {
   "cell_type": "code",
   "execution_count": 33,
   "id": "631b7de6",
   "metadata": {},
   "outputs": [],
   "source": [
    "beta_start = 1e-4\n",
    "beta_end = 0.02\n",
    "BETA = torch.linspace(beta_start, beta_end, TIMESTEPS).to(device)\n",
    "\n",
    "ALPHA = 1.0 - BETA\n",
    "ALPHA_HAT = torch.cumprod(ALPHA, dim=0)        "
   ]
  },
  {
   "cell_type": "markdown",
   "id": "8c40b14d",
   "metadata": {},
   "source": [
    "### Closed-form mixednormal"
   ]
  },
  {
   "cell_type": "code",
   "execution_count": 34,
   "id": "c3acfa77",
   "metadata": {},
   "outputs": [],
   "source": [
    "def sample_x_t_closed_form(\n",
    "    x, t, predicted_noise_distribution_params, pred, i, method, final_timestep_variance_scaling=1.0,\n",
    "):\n",
    "    if method == \"closed_form_normal\":\n",
    "        predicted_noise_mu = predicted_noise_distribution_params[..., 0]\n",
    "        predicted_noise_sigma = predicted_noise_distribution_params[..., 1]\n",
    "    elif method == \"closed_form_mixednormal\":\n",
    "        mu = predicted_noise_distribution_params[..., 0]\n",
    "        sigma = predicted_noise_distribution_params[..., 1]\n",
    "        weights = predicted_noise_distribution_params[..., 2]\n",
    "        sampled_weights = torch.distributions.Categorical(weights).sample()\n",
    "        predicted_noise_mu = torch.gather(mu, dim=-1, index=sampled_weights.unsqueeze(-1)).squeeze(-1)\n",
    "        predicted_noise_sigma = torch.gather(\n",
    "            sigma, dim=-1, index=sampled_weights.unsqueeze(-1)\n",
    "        ).squeeze(-1)\n",
    "    else:\n",
    "        raise Exception(f\"Invalid method {method}\")\n",
    "    \n",
    "    alpha = ALPHA[t]\n",
    "    alpha_hat = ALPHA_HAT[t]\n",
    "    beta = BETA[t]\n",
    "    # Reshape\n",
    "    alpha = alpha.view(*alpha.shape, *(1,) * (x.ndim - alpha.ndim)).expand(x.shape)\n",
    "    alpha_hat = alpha_hat.view(\n",
    "        *alpha_hat.shape, *(1,) * (x.ndim - alpha_hat.ndim)\n",
    "    ).expand(x.shape)\n",
    "    beta = beta.view(*beta.shape, *(1,) * (x.ndim - beta.ndim)).expand(x.shape)\n",
    "    if i > 1:\n",
    "        noise = torch.randn_like(x)\n",
    "    else:\n",
    "        noise = torch.zeros_like(x)\n",
    "\n",
    "    variance_factor_default = beta**2 / (alpha * (1 - alpha_hat))\n",
    "\n",
    "    y_hat_0 = (\n",
    "        1\n",
    "        / torch.sqrt(alpha_hat)\n",
    "        * (\n",
    "            x\n",
    "            - (1 - torch.sqrt(alpha_hat)) * pred\n",
    "            - torch.sqrt(1 - alpha_hat) * predicted_noise_mu\n",
    "        )\n",
    "    )\n",
    "    if i > 1:\n",
    "        alpha_hat_t_minus_1 = alpha_hat[t - 1]\n",
    "        alpha_hat_t_minus_1 = alpha_hat_t_minus_1.view(\n",
    "            *alpha_hat_t_minus_1.shape,\n",
    "            *(1,) * (x.ndim - alpha_hat_t_minus_1.ndim),\n",
    "        ).expand(x.shape)\n",
    "\n",
    "        gamma_0 = beta * torch.sqrt(alpha_hat_t_minus_1) / (1 - alpha_hat)\n",
    "        gamma_1 = (\n",
    "            (1 - alpha_hat_t_minus_1) * torch.sqrt(alpha) / (1 - alpha_hat)\n",
    "        )\n",
    "        gamma_2 = 1 + (torch.sqrt(alpha_hat) - 1) * (\n",
    "            torch.sqrt(alpha) + torch.sqrt(alpha_hat_t_minus_1)\n",
    "        ) / (1 - alpha_hat)\n",
    "\n",
    "        beta_wiggle = (1 - alpha_hat_t_minus_1) / (1 - alpha_hat) * beta\n",
    "\n",
    "        variance_factor_CARD = alpha_hat_t_minus_1 * variance_factor_default\n",
    "        if i == 1:\n",
    "            variance_factor_CARD *= final_timestep_variance_scaling\n",
    "\n",
    "        x = (gamma_0 * y_hat_0 + gamma_1 * x + gamma_2 * pred) + ddim_sigma * torch.sqrt(\n",
    "            variance_factor_CARD * (predicted_noise_sigma)**2 + beta_wiggle\n",
    "        ) * noise\n",
    "    else:\n",
    "        x = y_hat_0\n",
    "        \n",
    "    return x"
   ]
  },
  {
   "cell_type": "code",
   "execution_count": 35,
   "id": "a2256112",
   "metadata": {},
   "outputs": [
    {
     "name": "stdout",
     "output_type": "stream",
     "text": [
      "HI\n"
     ]
    }
   ],
   "source": [
    "if not deterministic:\n",
    "    with torch.no_grad():\n",
    "        x_closedform = x_repeated.clone()\n",
    "\n",
    "        distr_per_t_closed_form = [\n",
    "            (x_closedform.mean().cpu(), x_closedform.std().cpu())\n",
    "        ]\n",
    "        x_trajectories_closedform = [\n",
    "            x_closedform\n",
    "        ]\n",
    "\n",
    "        for i in reversed(range(1, TIMESTEPS)):\n",
    "            if i == 1:\n",
    "                print(\"HI\")\n",
    "            t = torch.tensor([i]).long().to(device)\n",
    "            curr_t_repeated = t.repeat_interleave(N_SAMPLES, dim=0)\n",
    "            #curr_t_repeated = t_repeated\n",
    "            \n",
    "            predicted_noise_distribution_params = model(\n",
    "                x_closedform, curr_t_repeated, cond_repeated, pred_repeated,\n",
    "            )\n",
    "\n",
    "            x_closedform = sample_x_t_closed_form(\n",
    "                x_closedform,\n",
    "                curr_t_repeated,\n",
    "                predicted_noise_distribution_params,\n",
    "                pred_repeated,\n",
    "                i,\n",
    "                \"closed_form_mixednormal\",\n",
    "            )\n",
    "\n",
    "            distr_per_t_closed_form.append(\n",
    "                (x_closedform.mean(axis=0).cpu(), x_closedform.std(axis=0).cpu())\n",
    "            )\n",
    "            x_trajectories_closedform.append(\n",
    "                x_closedform\n",
    "            )"
   ]
  },
  {
   "cell_type": "markdown",
   "id": "bfe441e5",
   "metadata": {},
   "source": [
    "### Sample mixednormal"
   ]
  },
  {
   "cell_type": "code",
   "execution_count": 36,
   "id": "f8014d0c",
   "metadata": {},
   "outputs": [],
   "source": [
    "def sample_noise(model, x, t, conditioning, pred):\n",
    "    predicted_mixture = model(x, t, conditioning, pred)\n",
    "    mu = predicted_mixture[..., 0]\n",
    "    sigma = predicted_mixture[..., 1]\n",
    "    weights = predicted_mixture[..., 2]\n",
    "    sampled_weights = torch.distributions.Categorical(weights).sample()\n",
    "    sampled_mu = torch.gather(mu, dim=-1, index=sampled_weights.unsqueeze(-1))\n",
    "    sampled_sigma = torch.gather(\n",
    "        sigma, dim=-1, index=sampled_weights.unsqueeze(-1)\n",
    "    )\n",
    "    predicted_noise = sampled_mu + sampled_sigma * torch.randn_like(\n",
    "        sampled_mu, device=device\n",
    "    )\n",
    "    predicted_noise = predicted_noise.squeeze(-1)\n",
    "\n",
    "    #print(f\"sampled_mu={sampled_mu.squeeze()}; sampled_sigma={sampled_sigma.squeeze()}\")\n",
    "\n",
    "    return predicted_noise"
   ]
  },
  {
   "cell_type": "code",
   "execution_count": 37,
   "id": "940d2b3e",
   "metadata": {},
   "outputs": [],
   "source": [
    "def sample_x_t_inference(x, t, predicted_noise, pred, i):\n",
    "    alpha = ALPHA[t]\n",
    "    alpha_hat = ALPHA_HAT[t]\n",
    "    beta = BETA[t]\n",
    "    # Reshape\n",
    "    alpha = alpha.view(*alpha.shape, *(1,) * (x.ndim - alpha.ndim)).expand(x.shape)\n",
    "    alpha_hat = alpha_hat.view(\n",
    "        *alpha_hat.shape, *(1,) * (x.ndim - alpha_hat.ndim)\n",
    "    ).expand(x.shape)\n",
    "    beta = beta.view(*beta.shape, *(1,) * (x.ndim - beta.ndim)).expand(x.shape)\n",
    "    if i > 1:\n",
    "        noise = torch.randn_like(x)\n",
    "    else:\n",
    "        noise = torch.zeros_like(x)\n",
    "\n",
    "    y_hat_0 = (\n",
    "        1\n",
    "        / torch.sqrt(alpha_hat)\n",
    "        * (\n",
    "            x\n",
    "            - (1 - torch.sqrt(alpha_hat)) * pred\n",
    "            - torch.sqrt(1 - alpha_hat) * predicted_noise\n",
    "        )\n",
    "    )\n",
    "    if i > 1:\n",
    "        alpha_hat_t_minus_1 = alpha_hat[t - 1]\n",
    "        alpha_hat_t_minus_1 = alpha_hat_t_minus_1.view(\n",
    "            *alpha_hat_t_minus_1.shape,\n",
    "            *(1,) * (x.ndim - alpha_hat_t_minus_1.ndim),\n",
    "        ).expand(x.shape)\n",
    "\n",
    "        gamma_0 = beta * torch.sqrt(alpha_hat_t_minus_1) / (1 - alpha_hat)\n",
    "        gamma_1 = (\n",
    "            (1 - alpha_hat_t_minus_1) * torch.sqrt(alpha) / (1 - alpha_hat)\n",
    "        )\n",
    "        gamma_2 = 1 + (torch.sqrt(alpha_hat) - 1) * (\n",
    "            torch.sqrt(alpha) + torch.sqrt(alpha_hat_t_minus_1)\n",
    "        ) / (1 - alpha_hat)\n",
    "\n",
    "        beta_wiggle = (1 - alpha_hat_t_minus_1) / (1 - alpha_hat) * beta\n",
    "\n",
    "        x = (\n",
    "            gamma_0 * y_hat_0\n",
    "            + gamma_1 * x\n",
    "            + gamma_2 * pred\n",
    "            + ddim_sigma * torch.sqrt(beta_wiggle) * noise\n",
    "        )\n",
    "\n",
    "    else:\n",
    "        x = y_hat_0\n",
    "\n",
    "    return x"
   ]
  },
  {
   "cell_type": "code",
   "execution_count": 38,
   "id": "84a8a54c",
   "metadata": {},
   "outputs": [],
   "source": [
    "if not deterministic:\n",
    "    with torch.no_grad():\n",
    "        x_sampledform = x_repeated.clone()\n",
    "\n",
    "        distr_per_t_sampled_form = [\n",
    "            (x_sampledform.mean().cpu(), x_sampledform.std().cpu())\n",
    "        ]\n",
    "        x_trajectories_sampledform = [\n",
    "            x_sampledform\n",
    "        ]\n",
    "\n",
    "        for i in reversed(range(1, TIMESTEPS)):\n",
    "            predicted_noise = sample_noise(model, x_sampledform, t_repeated, cond_repeated, pred_repeated)\n",
    "            x_sampledform = sample_x_t_inference(x_sampledform, t_repeated, predicted_noise, pred_repeated, i)\n",
    "\n",
    "            distr_per_t_sampled_form.append(\n",
    "                (x_sampledform.mean(axis=0).cpu(), x_sampledform.std(axis=0).cpu())\n",
    "            )\n",
    "            x_trajectories_sampledform.append(\n",
    "                x_sampledform\n",
    "            )\n"
   ]
  },
  {
   "cell_type": "markdown",
   "id": "0de2793f",
   "metadata": {},
   "source": [
    "### Deterministic"
   ]
  },
  {
   "cell_type": "code",
   "execution_count": 39,
   "id": "99632482",
   "metadata": {},
   "outputs": [],
   "source": [
    "if deterministic:\n",
    "    with torch.no_grad():\n",
    "        x_deterministic = x_repeated.clone()\n",
    "\n",
    "        distr_per_t_deterministic = [\n",
    "            (x_deterministic.mean().cpu(), x_deterministic.std().cpu())\n",
    "        ]\n",
    "        x_trajectories_deterministic = [\n",
    "            x_deterministic\n",
    "        ]\n",
    "\n",
    "        for i in reversed(range(1, TIMESTEPS)):\n",
    "            predicted_noise = model(x_deterministic, t_repeated, cond_repeated, pred_repeated)\n",
    "            x_deterministic = sample_x_t_inference(x_deterministic, t_repeated, predicted_noise, pred_repeated, i)\n",
    "\n",
    "            distr_per_t_deterministic.append(\n",
    "                (x_deterministic.mean(axis=0).cpu(), x_deterministic.std(axis=0).cpu())\n",
    "            )\n",
    "\n",
    "            x_trajectories_deterministic.append(\n",
    "                x_deterministic\n",
    "            )"
   ]
  },
  {
   "cell_type": "markdown",
   "id": "42adf1bd",
   "metadata": {},
   "source": [
    "### Plots"
   ]
  },
  {
   "cell_type": "markdown",
   "id": "9065e1f9",
   "metadata": {},
   "source": [
    "#### Closed-form"
   ]
  },
  {
   "cell_type": "code",
   "execution_count": 40,
   "id": "f0191c60",
   "metadata": {},
   "outputs": [
    {
     "data": {
      "image/png": "[encoded data removed]",
      "text/plain": [
       "<Figure size 640x480 with 1 Axes>"
      ]
     },
     "metadata": {},
     "output_type": "display_data"
    }
   ],
   "source": [
    "if not deterministic:\n",
    "    means_over_time_closed_form = np.array([distr_per_t_closed_form[t][0].squeeze() for t in range(TIMESTEPS)]).squeeze()\n",
    "    stds_over_time_closed_form =  np.array([distr_per_t_closed_form[t][1].squeeze() for t in range(TIMESTEPS)]).squeeze()\n",
    "\n",
    "    reversed_timesteps = list(reversed(range(TIMESTEPS)))\n",
    "\n",
    "    plt.figure()\n",
    "    plt.plot(reversed_timesteps, means_over_time_closed_form, label=\"Prediction - Mean\")\n",
    "    plt.plot(reversed_timesteps, [target.item() for _ in reversed_timesteps], label=\"Ground truth\")\n",
    "    plt.fill_between(np.array(reversed_timesteps), means_over_time_closed_form - stds_over_time_closed_form, means_over_time_closed_form + stds_over_time_closed_form, color='blue', alpha=0.2, label='±1 Std Dev')\n",
    "    plt.xlabel(\"timesteps\")\n",
    "    plt.legend()\n",
    "    plt.title(f\"Predictive distribution - CLOSED-form\")\n",
    "    plt.tight_layout()\n",
    "    stds_over_time_closed_form"
   ]
  },
  {
   "cell_type": "code",
   "execution_count": 41,
   "id": "37853c61",
   "metadata": {},
   "outputs": [
    {
     "data": {
      "image/png": "[encoded data removed]",
      "text/plain": [
       "<Figure size 640x480 with 1 Axes>"
      ]
     },
     "metadata": {},
     "output_type": "display_data"
    }
   ],
   "source": [
    "if not deterministic:\n",
    "    x_trac_tensor = torch.concat(x_trajectories_closedform, dim=1).squeeze().cpu()\n",
    "\n",
    "    reversed_timesteps = list(reversed(range(TIMESTEPS)))\n",
    "\n",
    "    plt.figure()\n",
    "    for i in range(5):\n",
    "        plt.plot(reversed_timesteps, x_trac_tensor[i].numpy(), label=f\"Prediction - Trajectory-{i}\")\n",
    "    plt.plot(reversed_timesteps, [target.item() for _ in reversed_timesteps], label=\"Ground truth\")\n",
    "    plt.xlabel(\"timesteps\")\n",
    "    plt.legend()\n",
    "    plt.title(f\"Predictive distribution - CLOSED-form\")\n",
    "    plt.tight_layout()"
   ]
  },
  {
   "cell_type": "markdown",
   "id": "0307021b",
   "metadata": {},
   "source": [
    "#### Sampled-form"
   ]
  },
  {
   "cell_type": "code",
   "execution_count": 42,
   "id": "5bb3cf3a",
   "metadata": {},
   "outputs": [
    {
     "data": {
      "image/png": "[encoded data removed]",
      "text/plain": [
       "<Figure size 640x480 with 1 Axes>"
      ]
     },
     "metadata": {},
     "output_type": "display_data"
    }
   ],
   "source": [
    "if not deterministic:\n",
    "    means_over_time_sampled_form = np.array([distr_per_t_sampled_form[t][0].squeeze() for t in range(TIMESTEPS)]).squeeze()\n",
    "    stds_over_time_sampled_form =  np.array([distr_per_t_sampled_form[t][1].squeeze() for t in range(TIMESTEPS)]).squeeze()\n",
    "\n",
    "    reversed_timesteps = list(reversed(range(TIMESTEPS)))\n",
    "\n",
    "    plt.figure()\n",
    "    plt.plot(reversed_timesteps, means_over_time_sampled_form, label=\"Prediction - Mean\")\n",
    "    plt.plot(reversed_timesteps, [target.item() for _ in reversed_timesteps], label=\"Ground truth\")\n",
    "    plt.fill_between(np.array(reversed_timesteps), means_over_time_sampled_form - stds_over_time_sampled_form, means_over_time_sampled_form + stds_over_time_sampled_form, color='blue', alpha=0.2, label='±1 Std Dev')\n",
    "    plt.xlabel(\"timesteps\")\n",
    "    plt.legend()\n",
    "    plt.title(f\"Predictive distribution - SAMPLED-form\")\n",
    "    plt.tight_layout()\n",
    "    stds_over_time_sampled_form"
   ]
  },
  {
   "cell_type": "code",
   "execution_count": 43,
   "id": "8670ab9a",
   "metadata": {},
   "outputs": [
    {
     "data": {
      "image/png": "[encoded data removed]",
      "text/plain": [
       "<Figure size 640x480 with 1 Axes>"
      ]
     },
     "metadata": {},
     "output_type": "display_data"
    }
   ],
   "source": [
    "if not deterministic:\n",
    "    x_trac_tensor = torch.concat(x_trajectories_sampledform, dim=1).squeeze().cpu()\n",
    "\n",
    "    reversed_timesteps = list(reversed(range(TIMESTEPS)))\n",
    "\n",
    "    plt.figure()\n",
    "    for i in range(5):\n",
    "        plt.plot(reversed_timesteps, x_trac_tensor[i].numpy(), label=f\"Prediction - Trajectory-{i}\")\n",
    "    plt.plot(reversed_timesteps, [target.item() for _ in reversed_timesteps], label=\"Ground truth\")\n",
    "    plt.xlabel(\"timesteps\")\n",
    "    plt.legend()\n",
    "    plt.title(f\"Predictive distribution - SAMPLED-form\")\n",
    "    plt.tight_layout()"
   ]
  },
  {
   "cell_type": "markdown",
   "id": "c3ab4542",
   "metadata": {},
   "source": [
    "#### Deterministic"
   ]
  },
  {
   "cell_type": "code",
   "execution_count": 44,
   "id": "216906cd",
   "metadata": {},
   "outputs": [],
   "source": [
    "if deterministic:\n",
    "    means_over_time_deterministic = np.array([distr_per_t_deterministic[t][0].squeeze() for t in range(TIMESTEPS)]).squeeze()\n",
    "    stds_over_time_deterministic =  np.array([distr_per_t_deterministic[t][1].squeeze() for t in range(TIMESTEPS)]).squeeze()\n",
    "\n",
    "    reversed_timesteps = list(reversed(range(TIMESTEPS)))\n",
    "\n",
    "    plt.figure()\n",
    "    plt.plot(reversed_timesteps, means_over_time_deterministic, label=\"Prediction - Mean\")\n",
    "    plt.plot(reversed_timesteps, [target.item() for _ in reversed_timesteps], label=\"Ground truth\")\n",
    "    plt.fill_between(np.array(reversed_timesteps), means_over_time_deterministic - stds_over_time_deterministic, means_over_time_deterministic + stds_over_time_deterministic, color='blue', alpha=0.2, label='±1 Std Dev')\n",
    "    plt.xlabel(\"timesteps\")\n",
    "    plt.legend()\n",
    "    plt.title(f\"Predictive distribution - DETERMINISTIC\")\n",
    "    plt.tight_layout()"
   ]
  },
  {
   "cell_type": "code",
   "execution_count": 45,
   "id": "403f1913",
   "metadata": {},
   "outputs": [],
   "source": [
    "if deterministic:\n",
    "\n",
    "    x_trac_tensor = torch.concat(x_trajectories_deterministic, dim=1).squeeze().cpu()\n",
    "\n",
    "    reversed_timesteps = list(reversed(range(TIMESTEPS)))\n",
    "\n",
    "    plt.figure()\n",
    "    for i in range(5):\n",
    "        plt.plot(reversed_timesteps, x_trac_tensor[i].numpy(), label=f\"Prediction - Trajectory-{i}\")\n",
    "    plt.plot(reversed_timesteps, [target.item() for _ in reversed_timesteps], label=\"Ground truth\")\n",
    "    plt.xlabel(\"timesteps\")\n",
    "    plt.legend()\n",
    "    plt.title(f\"Predictive distribution - DETERMINISTIC\")\n",
    "    plt.tight_layout()"
   ]
  },
  {
   "cell_type": "markdown",
   "id": "2c503171",
   "metadata": {},
   "source": [
    "### Why?"
   ]
  },
  {
   "cell_type": "code",
   "execution_count": 46,
   "id": "16e206c9",
   "metadata": {},
   "outputs": [],
   "source": [
    "def sample_x_t_training(x, eps, t, pred=None):\n",
    "    alpha = ALPHA[t]\n",
    "    alpha_hat = ALPHA_HAT[t]\n",
    "    beta = BETA[t]\n",
    "\n",
    "    sqrt_alpha_hat = torch.sqrt(alpha_hat)\n",
    "    sqrt_one_minus_alpha_hat = torch.sqrt(1 - alpha_hat)\n",
    "    # Reshape\n",
    "    sqrt_alpha_hat = sqrt_alpha_hat.view(\n",
    "        *sqrt_alpha_hat.shape, *(1,) * (x.ndim - sqrt_alpha_hat.ndim)\n",
    "    ).expand(x.shape)\n",
    "    sqrt_one_minus_alpha_hat = sqrt_one_minus_alpha_hat.view(\n",
    "        *sqrt_one_minus_alpha_hat.shape,\n",
    "        *(1,) * (x.ndim - sqrt_one_minus_alpha_hat.ndim),\n",
    "    ).expand(x.shape)\n",
    "\n",
    "    target_training = (\n",
    "        sqrt_alpha_hat * x\n",
    "        + sqrt_one_minus_alpha_hat * eps\n",
    "        + (1 - sqrt_alpha_hat) * pred\n",
    "    )\n",
    "    return target_training\n",
    "\n",
    "def noise_low_dimensional(x, t, pred=None):\n",
    "\n",
    "    eps = x = torch.randn(x.shape).to(device)\n",
    "    x_t = sample_x_t_training(x, eps, t, pred)\n",
    "    return x_t, eps"
   ]
  },
  {
   "cell_type": "code",
   "execution_count": 47,
   "id": "2fa3c973",
   "metadata": {},
   "outputs": [],
   "source": [
    "curr_t = torch.tensor([49]).long().to(device)\n",
    "x_t, noise = noise_low_dimensional(target, curr_t, pred=pred)\n",
    "\n",
    "predicted_noise = model(x_t, curr_t, conditioning, pred)"
   ]
  },
  {
   "cell_type": "code",
   "execution_count": 48,
   "id": "6fa172cc",
   "metadata": {},
   "outputs": [
    {
     "data": {
      "text/plain": [
       "tensor([[1.7145]], device='cuda:0')"
      ]
     },
     "execution_count": 48,
     "metadata": {},
     "output_type": "execute_result"
    }
   ],
   "source": [
    "noise"
   ]
  },
  {
   "cell_type": "code",
   "execution_count": 49,
   "id": "3ee670cc",
   "metadata": {},
   "outputs": [
    {
     "data": {
      "text/plain": [
       "tensor([[2.2538]], device='cuda:0')"
      ]
     },
     "execution_count": 49,
     "metadata": {},
     "output_type": "execute_result"
    }
   ],
   "source": [
    "x_t"
   ]
  },
  {
   "cell_type": "code",
   "execution_count": 50,
   "id": "039b8fd3",
   "metadata": {},
   "outputs": [
    {
     "data": {
      "text/plain": [
       "tensor([[[[[6.0003e+00, 5.4433e-02, 2.1316e-04],\n",
       "           [4.8776e+00, 4.2500e-02, 9.9979e-01]]]]], device='cuda:0',\n",
       "       grad_fn=<UnsqueezeBackward0>)"
      ]
     },
     "execution_count": 50,
     "metadata": {},
     "output_type": "execute_result"
    }
   ],
   "source": [
    "predicted_noise"
   ]
  }
 ],
 "metadata": {
  "kernelspec": {
   "display_name": "diffUQ",
   "language": "python",
   "name": "python3"
  },
  "language_info": {
   "codemirror_mode": {
    "name": "ipython",
    "version": 3
   },
   "file_extension": ".py",
   "mimetype": "text/x-python",
   "name": "python",
   "nbconvert_exporter": "python",
   "pygments_lexer": "ipython3",
   "version": "3.10.16"
  }
 },
 "nbformat": 4,
 "nbformat_minor": 5
}
